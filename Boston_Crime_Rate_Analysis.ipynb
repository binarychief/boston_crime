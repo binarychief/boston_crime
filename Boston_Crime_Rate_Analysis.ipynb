{
  "nbformat": 4,
  "nbformat_minor": 0,
  "metadata": {
    "colab": {
      "name": "Boston_Crime_Rate_Analysis.ipynb",
      "provenance": [],
      "collapsed_sections": []
    },
    "kernelspec": {
      "name": "python3",
      "display_name": "Python 3"
    },
    "language_info": {
      "name": "python"
    }
  },
  "cells": [
    {
      "cell_type": "code",
      "execution_count": null,
      "metadata": {
        "id": "6x45IXFQ8Y2k"
      },
      "outputs": [],
      "source": [
        "from IPython.display import display, HTML\n",
        "import pandas as pd\n",
        "import sqlite3\n",
        "from sqlite3 import Error\n",
        "\n",
        "def create_connection(db_file, delete_db=False):\n",
        "    import os\n",
        "    if delete_db and os.path.exists(db_file):\n",
        "        os.remove(db_file)\n",
        "\n",
        "    conn = None\n",
        "    try:\n",
        "        conn = sqlite3.connect(db_file)\n",
        "        conn.execute(\"PRAGMA foreign_keys = 1\")\n",
        "    except Error as e:\n",
        "        print(e)\n",
        "\n",
        "    return conn\n",
        "\n",
        "\n",
        "def create_table(conn, create_table_sql):\n",
        "    try:\n",
        "        c = conn.cursor()\n",
        "        c.execute(create_table_sql)\n",
        "    except Error as e:\n",
        "        print(e)\n",
        "        \n",
        "def execute_sql_statement(sql_statement, conn):\n",
        "    cur = conn.cursor()\n",
        "    cur.execute(sql_statement)\n",
        "\n",
        "    rows = cur.fetchall()\n",
        "\n",
        "    return rows\n",
        "\n",
        "def insert_data(file,create_statement,insert_statement,val):\n",
        "\tdr ={}\n",
        "\tconn = create_connection('Boston_crime.db', True)\n",
        "\tcur = conn.cursor()\n",
        "\n",
        "\n",
        "\twith conn:\n",
        "\t\tcreate_table(conn,create_statement)\n",
        "\twith open(file,'r') as file:\n",
        "\t\tshootings_dict = csv.DictReader(file)\n",
        "\t\t\n",
        "\n",
        "\tcur.executemany(insert_statement,val)\n",
        "\tconn.commit()\n",
        "\tconn.close()\n",
        " \n",
        "def Crime_Inc_Rep(file):\n",
        "  conn = create_connection('Boston_crime.db', True)\n",
        "  cur = conn.cursor()\n",
        "\n",
        "  with open(file,'r') as file:\n",
        "    my_dict = csv.DictReader(file)\n",
        "    val = [(i['INCIDENT_NUMBER'],i['OFFENSE_CODE'],i['OFFENSE_CODE_GROUP'],i['OFFENSE_DESCRIPTION']\n",
        "            ,i['DISTRICT'],i['REPORTING_AREA'],i['SHOOTING'],i['OCCURRED_ON_DATE']\n",
        "            ,i['YEAR'],i['MONTH'],i['DAY_OF_WEEK'],i['HOUR']\n",
        "            ,i['UCR_PART'],i['STREET'],i['Lat'],i['Long']\n",
        "            ,i['Location']) for i in my_dict]\n",
        "\n",
        "  cur.executemany(\"INSERT INTO Crime_Incident_Reports VALUES (?,?,?,?,?,?,?,?,?,?,?,?,?,?,?,?,?)\",val)\n",
        "  conn.commit()\n",
        "  conn.close()\n",
        "\n"
      ]
    },
    {
      "cell_type": "code",
      "source": [
        "#Shootings Table Data\n",
        "dr ={}\n",
        "conn = create_connection('Boston_crime.db', True)\n",
        "cur = conn.cursor()\n",
        "sql_statement = '''CREATE table Shootings (Incident_Num TEXT, Shooting_Date TEXT, \n",
        "                  District TEXT, Shooting_Type_V2 TEXT, Victim_Gender TEXT, \n",
        "                  Victim_Race TEXT,Victim_Ethnicity_NIBRS TEXT,Multi_Victim TEXT);'''\n",
        "with conn:\n",
        "  create_table(conn,sql_statement)\n",
        "with open('Shootings.csv','r') as file:\n",
        "  shootings_dict = csv.DictReader(file)\n",
        "  val = [(i['Incident_Num'],i['Shooting_Date'],i['District'],i['Shooting_Type_V2'],i['Victim_Gender'],i['Victim_Race'],i['Victim_Ethnicity_NIBRS'],i['Multi_Victim']) for i in shootings_dict]\n",
        "\n",
        "cur.executemany(\"INSERT INTO SHOOTINGS VALUES (?,?,?,?,?,?,?,?)\",val)\n",
        "conn.commit()\n",
        "conn.close()\n",
        "    "
      ],
      "metadata": {
        "id": "gxNBXjteDtkY",
        "colab": {
          "base_uri": "https://localhost:8080/",
          "height": 234
        },
        "outputId": "668ee82e-1c03-4b3e-e378-f1ee4dfb9c20"
      },
      "execution_count": null,
      "outputs": [
        {
          "output_type": "error",
          "ename": "NameError",
          "evalue": "ignored",
          "traceback": [
            "\u001b[0;31m---------------------------------------------------------------------------\u001b[0m",
            "\u001b[0;31mNameError\u001b[0m                                 Traceback (most recent call last)",
            "\u001b[0;32m<ipython-input-1-3eba0790e848>\u001b[0m in \u001b[0;36m<module>\u001b[0;34m()\u001b[0m\n\u001b[1;32m      1\u001b[0m \u001b[0;31m#Shootings Table Data\u001b[0m\u001b[0;34m\u001b[0m\u001b[0;34m\u001b[0m\u001b[0;34m\u001b[0m\u001b[0m\n\u001b[1;32m      2\u001b[0m \u001b[0mdr\u001b[0m \u001b[0;34m=\u001b[0m\u001b[0;34m{\u001b[0m\u001b[0;34m}\u001b[0m\u001b[0;34m\u001b[0m\u001b[0;34m\u001b[0m\u001b[0m\n\u001b[0;32m----> 3\u001b[0;31m \u001b[0mconn\u001b[0m \u001b[0;34m=\u001b[0m \u001b[0mcreate_connection\u001b[0m\u001b[0;34m(\u001b[0m\u001b[0;34m'Boston_crime.db'\u001b[0m\u001b[0;34m,\u001b[0m \u001b[0;32mTrue\u001b[0m\u001b[0;34m)\u001b[0m\u001b[0;34m\u001b[0m\u001b[0;34m\u001b[0m\u001b[0m\n\u001b[0m\u001b[1;32m      4\u001b[0m \u001b[0mcur\u001b[0m \u001b[0;34m=\u001b[0m \u001b[0mconn\u001b[0m\u001b[0;34m.\u001b[0m\u001b[0mcursor\u001b[0m\u001b[0;34m(\u001b[0m\u001b[0;34m)\u001b[0m\u001b[0;34m\u001b[0m\u001b[0;34m\u001b[0m\u001b[0m\n\u001b[1;32m      5\u001b[0m sql_statement = '''CREATE table Shootings (Incident_Num TEXT, Shooting_Date TEXT, \n",
            "\u001b[0;31mNameError\u001b[0m: name 'create_connection' is not defined"
          ]
        }
      ]
    },
    {
      "cell_type": "code",
      "source": [
        "from google.colab import drive\n",
        "drive.mount('/content/drive')"
      ],
      "metadata": {
        "colab": {
          "base_uri": "https://localhost:8080/",
          "height": 328
        },
        "id": "CcswoVKbnx92",
        "outputId": "eb30b31a-1ddb-4552-be82-17e1c8521d36"
      },
      "execution_count": null,
      "outputs": [
        {
          "output_type": "error",
          "ename": "MessageError",
          "evalue": "ignored",
          "traceback": [
            "\u001b[0;31m---------------------------------------------------------------------------\u001b[0m",
            "\u001b[0;31mMessageError\u001b[0m                              Traceback (most recent call last)",
            "\u001b[0;32m<ipython-input-2-d5df0069828e>\u001b[0m in \u001b[0;36m<module>\u001b[0;34m()\u001b[0m\n\u001b[1;32m      1\u001b[0m \u001b[0;32mfrom\u001b[0m \u001b[0mgoogle\u001b[0m\u001b[0;34m.\u001b[0m\u001b[0mcolab\u001b[0m \u001b[0;32mimport\u001b[0m \u001b[0mdrive\u001b[0m\u001b[0;34m\u001b[0m\u001b[0;34m\u001b[0m\u001b[0m\n\u001b[0;32m----> 2\u001b[0;31m \u001b[0mdrive\u001b[0m\u001b[0;34m.\u001b[0m\u001b[0mmount\u001b[0m\u001b[0;34m(\u001b[0m\u001b[0;34m'/content/drive'\u001b[0m\u001b[0;34m)\u001b[0m\u001b[0;34m\u001b[0m\u001b[0;34m\u001b[0m\u001b[0m\n\u001b[0m",
            "\u001b[0;32m/usr/local/lib/python3.7/dist-packages/google/colab/drive.py\u001b[0m in \u001b[0;36mmount\u001b[0;34m(mountpoint, force_remount, timeout_ms, use_metadata_server)\u001b[0m\n\u001b[1;32m    111\u001b[0m       \u001b[0mtimeout_ms\u001b[0m\u001b[0;34m=\u001b[0m\u001b[0mtimeout_ms\u001b[0m\u001b[0;34m,\u001b[0m\u001b[0;34m\u001b[0m\u001b[0;34m\u001b[0m\u001b[0m\n\u001b[1;32m    112\u001b[0m       \u001b[0muse_metadata_server\u001b[0m\u001b[0;34m=\u001b[0m\u001b[0muse_metadata_server\u001b[0m\u001b[0;34m,\u001b[0m\u001b[0;34m\u001b[0m\u001b[0;34m\u001b[0m\u001b[0m\n\u001b[0;32m--> 113\u001b[0;31m       ephemeral=ephemeral)\n\u001b[0m\u001b[1;32m    114\u001b[0m \u001b[0;34m\u001b[0m\u001b[0m\n\u001b[1;32m    115\u001b[0m \u001b[0;34m\u001b[0m\u001b[0m\n",
            "\u001b[0;32m/usr/local/lib/python3.7/dist-packages/google/colab/drive.py\u001b[0m in \u001b[0;36m_mount\u001b[0;34m(mountpoint, force_remount, timeout_ms, use_metadata_server, ephemeral)\u001b[0m\n\u001b[1;32m    134\u001b[0m   \u001b[0;32mif\u001b[0m \u001b[0mephemeral\u001b[0m\u001b[0;34m:\u001b[0m\u001b[0;34m\u001b[0m\u001b[0;34m\u001b[0m\u001b[0m\n\u001b[1;32m    135\u001b[0m     _message.blocking_request(\n\u001b[0;32m--> 136\u001b[0;31m         'request_auth', request={'authType': 'dfs_ephemeral'}, timeout_sec=None)\n\u001b[0m\u001b[1;32m    137\u001b[0m \u001b[0;34m\u001b[0m\u001b[0m\n\u001b[1;32m    138\u001b[0m   \u001b[0mmountpoint\u001b[0m \u001b[0;34m=\u001b[0m \u001b[0m_os\u001b[0m\u001b[0;34m.\u001b[0m\u001b[0mpath\u001b[0m\u001b[0;34m.\u001b[0m\u001b[0mexpanduser\u001b[0m\u001b[0;34m(\u001b[0m\u001b[0mmountpoint\u001b[0m\u001b[0;34m)\u001b[0m\u001b[0;34m\u001b[0m\u001b[0;34m\u001b[0m\u001b[0m\n",
            "\u001b[0;32m/usr/local/lib/python3.7/dist-packages/google/colab/_message.py\u001b[0m in \u001b[0;36mblocking_request\u001b[0;34m(request_type, request, timeout_sec, parent)\u001b[0m\n\u001b[1;32m    173\u001b[0m   request_id = send_request(\n\u001b[1;32m    174\u001b[0m       request_type, request, parent=parent, expect_reply=True)\n\u001b[0;32m--> 175\u001b[0;31m   \u001b[0;32mreturn\u001b[0m \u001b[0mread_reply_from_input\u001b[0m\u001b[0;34m(\u001b[0m\u001b[0mrequest_id\u001b[0m\u001b[0;34m,\u001b[0m \u001b[0mtimeout_sec\u001b[0m\u001b[0;34m)\u001b[0m\u001b[0;34m\u001b[0m\u001b[0;34m\u001b[0m\u001b[0m\n\u001b[0m",
            "\u001b[0;32m/usr/local/lib/python3.7/dist-packages/google/colab/_message.py\u001b[0m in \u001b[0;36mread_reply_from_input\u001b[0;34m(message_id, timeout_sec)\u001b[0m\n\u001b[1;32m    104\u001b[0m         reply.get('colab_msg_id') == message_id):\n\u001b[1;32m    105\u001b[0m       \u001b[0;32mif\u001b[0m \u001b[0;34m'error'\u001b[0m \u001b[0;32min\u001b[0m \u001b[0mreply\u001b[0m\u001b[0;34m:\u001b[0m\u001b[0;34m\u001b[0m\u001b[0;34m\u001b[0m\u001b[0m\n\u001b[0;32m--> 106\u001b[0;31m         \u001b[0;32mraise\u001b[0m \u001b[0mMessageError\u001b[0m\u001b[0;34m(\u001b[0m\u001b[0mreply\u001b[0m\u001b[0;34m[\u001b[0m\u001b[0;34m'error'\u001b[0m\u001b[0;34m]\u001b[0m\u001b[0;34m)\u001b[0m\u001b[0;34m\u001b[0m\u001b[0;34m\u001b[0m\u001b[0m\n\u001b[0m\u001b[1;32m    107\u001b[0m       \u001b[0;32mreturn\u001b[0m \u001b[0mreply\u001b[0m\u001b[0;34m.\u001b[0m\u001b[0mget\u001b[0m\u001b[0;34m(\u001b[0m\u001b[0;34m'data'\u001b[0m\u001b[0;34m,\u001b[0m \u001b[0;32mNone\u001b[0m\u001b[0;34m)\u001b[0m\u001b[0;34m\u001b[0m\u001b[0;34m\u001b[0m\u001b[0m\n\u001b[1;32m    108\u001b[0m \u001b[0;34m\u001b[0m\u001b[0m\n",
            "\u001b[0;31mMessageError\u001b[0m: Error: credential propagation was unsuccessful"
          ]
        }
      ]
    },
    {
      "cell_type": "code",
      "source": [
        "conn = create_connection('Boston_crime.db')\n",
        "sql_statement = \"select * from shootings;\"\n",
        "df = pd.read_sql_query(sql_statement, conn)\n",
        "#display(df)"
      ],
      "metadata": {
        "id": "lCrcS8M4ODgp"
      },
      "execution_count": null,
      "outputs": []
    },
    {
      "cell_type": "code",
      "source": [
        "#Shots Fired Table Data\n",
        "dr ={}\n",
        "conn = create_connection('Boston_crime.db', True)\n",
        "cur = conn.cursor()\n",
        "sql_statement = '''CREATE table Shots_Fired(Incident_Num TEXT, Incident_Date TEXT, \n",
        "                  District TEXT, Ballistics_Evidence TEXT);'''\n",
        "with conn:\n",
        "  create_table(conn,sql_statement)\n",
        "with open('Shots_Fired.csv','r') as file:\n",
        "  my_dict = csv.DictReader(file)\n",
        "  val = [(i['Incident_Num'],i['Incident_Date'],i['District'],i['Ballistics_Evidence']) for i in my_dict]\n",
        "\n",
        "cur.executemany(\"INSERT INTO Shots_Fired VALUES (?,?,?,?)\",val)\n",
        "conn.commit()\n",
        "conn.close()\n"
      ],
      "metadata": {
        "id": "mGg-j6QyQug-"
      },
      "execution_count": null,
      "outputs": []
    },
    {
      "cell_type": "code",
      "source": [
        "conn = create_connection('Boston_crime.db')\n",
        "sql_statement = \"select * from shots_fired;\"\n",
        "df = pd.read_sql_query(sql_statement, conn)\n",
        "#display(df)"
      ],
      "metadata": {
        "id": "7YHTyc5cepBB"
      },
      "execution_count": null,
      "outputs": []
    },
    {
      "cell_type": "code",
      "source": [
        "#Crime Incident Report Table Data\n",
        "dr ={}\n",
        "conn = create_connection('Boston_crime.db', True)\n",
        "cur = conn.cursor()\n",
        "\n",
        "sql_statement = '''CREATE table Crime_Incident_Reports(Incident_Num TEXT, Offense_Code TEXT, \n",
        "\t\t   Offense_Code_Group TEXT, Offense_Description TEXT, District TEXT,\n",
        "\t\t   Reporting_Area TEXT, Shooting TEXT, Occurred_On_Date TEXT, \n",
        "\t\t   Year TEXT, Month TEXT,Day_Of_Week TEXT, Hour TEXT, UCR_Part,\n",
        "\t\t   Street TEXT, Lat TEXT,Long TEXT, Location TEXT);'''\n",
        "with conn:\n",
        "  create_table(conn,sql_statement)\n",
        "\n",
        "# Crime_Inc_Rep('crime-incident-reports-2015.csv')\n",
        "# Crime_Inc_Rep('crime-incident-reports-2016.csv')\n",
        "  \n",
        "with open('crime-incident-reports-2015.csv','r') as file:\n",
        "  my_dict = csv.DictReader(file)\n",
        "  val = [(i['INCIDENT_NUMBER'],i['OFFENSE_CODE'],i['OFFENSE_CODE_GROUP'],i['OFFENSE_DESCRIPTION']\n",
        "          ,i['DISTRICT'],i['REPORTING_AREA'],i['SHOOTING'],i['OCCURRED_ON_DATE']\n",
        "          ,i['YEAR'],i['MONTH'],i['DAY_OF_WEEK'],i['HOUR']\n",
        "          ,i['UCR_PART'],i['STREET'],i['Lat'],i['Long']\n",
        "          ,i['Location']) for i in my_dict]\n",
        "cur.executemany(\"INSERT INTO Crime_Incident_Reports VALUES (?,?,?,?,?,?,?,?,?,?,?,?,?,?,?,?,?)\",val)\n",
        "\n",
        "with open('crime-incident-reports-2016.csv','r') as file:\n",
        "  my_dict = csv.DictReader(file)\n",
        "  val = [(i['INCIDENT_NUMBER'],i['OFFENSE_CODE'],i['OFFENSE_CODE_GROUP'],i['OFFENSE_DESCRIPTION']\n",
        "          ,i['DISTRICT'],i['REPORTING_AREA'],i['SHOOTING'],i['OCCURRED_ON_DATE']\n",
        "          ,i['YEAR'],i['MONTH'],i['DAY_OF_WEEK'],i['HOUR']\n",
        "          ,i['UCR_PART'],i['STREET'],i['Lat'],i['Long']\n",
        "          ,i['Location']) for i in my_dict]\n",
        "cur.executemany(\"INSERT INTO Crime_Incident_Reports VALUES (?,?,?,?,?,?,?,?,?,?,?,?,?,?,?,?,?)\",val)\n",
        "\n",
        "with open('crime-incident-reports-2017.csv','r') as file:\n",
        "  my_dict = csv.DictReader(file)\n",
        "  val = [(i['INCIDENT_NUMBER'],i['OFFENSE_CODE'],i['OFFENSE_CODE_GROUP'],i['OFFENSE_DESCRIPTION']\n",
        "          ,i['DISTRICT'],i['REPORTING_AREA'],i['SHOOTING'],i['OCCURRED_ON_DATE']\n",
        "          ,i['YEAR'],i['MONTH'],i['DAY_OF_WEEK'],i['HOUR']\n",
        "          ,i['UCR_PART'],i['STREET'],i['Lat'],i['Long']\n",
        "          ,i['Location']) for i in my_dict]\n",
        "cur.executemany(\"INSERT INTO Crime_Incident_Reports VALUES (?,?,?,?,?,?,?,?,?,?,?,?,?,?,?,?,?)\",val)\n",
        "\n",
        "with open('crime-incident-reports-2018.csv','r') as file:\n",
        "  my_dict = csv.DictReader(file)\n",
        "  val = [(i['INCIDENT_NUMBER'],i['OFFENSE_CODE'],i['OFFENSE_CODE_GROUP'],i['OFFENSE_DESCRIPTION']\n",
        "          ,i['DISTRICT'],i['REPORTING_AREA'],i['SHOOTING'],i['OCCURRED_ON_DATE']\n",
        "          ,i['YEAR'],i['MONTH'],i['DAY_OF_WEEK'],i['HOUR']\n",
        "          ,i['UCR_PART'],i['STREET'],i['Lat'],i['Long']\n",
        "          ,i['Location']) for i in my_dict]\n",
        "cur.executemany(\"INSERT INTO Crime_Incident_Reports VALUES (?,?,?,?,?,?,?,?,?,?,?,?,?,?,?,?,?)\",val)\n",
        "\n",
        "with open('Crime_Incident_Reports_2019.csv','r') as file:\n",
        "  my_dict = csv.DictReader(file)\n",
        "  val = [(i['INCIDENT_NUMBER'],i['OFFENSE_CODE'],i['OFFENSE_CODE_GROUP'],i['OFFENSE_DESCRIPTION']\n",
        "          ,i['DISTRICT'],i['REPORTING_AREA'],i['SHOOTING'],i['OCCURRED_ON_DATE']\n",
        "          ,i['YEAR'],i['MONTH'],i['DAY_OF_WEEK'],i['HOUR']\n",
        "          ,i['UCR_PART'],i['STREET'],i['Lat'],i['Long']\n",
        "          ,i['Location']) for i in my_dict]\n",
        "cur.executemany(\"INSERT INTO Crime_Incident_Reports VALUES (?,?,?,?,?,?,?,?,?,?,?,?,?,?,?,?,?)\",val)\n",
        "\n",
        "\n",
        "with open('Crime_Incident_Reports_2020.csv','r') as file:\n",
        "  my_dict = csv.DictReader(file)\n",
        "  val = [(i['INCIDENT_NUMBER'],i['OFFENSE_CODE'],i['OFFENSE_CODE_GROUP'],i['OFFENSE_DESCRIPTION']\n",
        "          ,i['DISTRICT'],i['REPORTING_AREA'],i['SHOOTING'],i['OCCURRED_ON_DATE']\n",
        "          ,i['YEAR'],i['MONTH'],i['DAY_OF_WEEK'],i['HOUR']\n",
        "          ,i['UCR_PART'],i['STREET'],i['Lat'],i['Long']\n",
        "          ,i['Location']) for i in my_dict]\n",
        "cur.executemany(\"INSERT INTO Crime_Incident_Reports VALUES (?,?,?,?,?,?,?,?,?,?,?,?,?,?,?,?,?)\",val)\n",
        "\n",
        "\n",
        "with open('Crime_Incident_Reports_2021.csv','r') as file:\n",
        "  my_dict = csv.DictReader(file)\n",
        "  val = [(i['INCIDENT_NUMBER'],i['OFFENSE_CODE'],i['OFFENSE_CODE_GROUP'],i['OFFENSE_DESCRIPTION']\n",
        "          ,i['DISTRICT'],i['REPORTING_AREA'],i['SHOOTING'],i['OCCURRED_ON_DATE']\n",
        "          ,i['YEAR'],i['MONTH'],i['DAY_OF_WEEK'],i['HOUR']\n",
        "          ,i['UCR_PART'],i['STREET'],i['Lat'],i['Long']\n",
        "          ,i['Location']) for i in my_dict]\n",
        "cur.executemany(\"INSERT INTO Crime_Incident_Reports VALUES (?,?,?,?,?,?,?,?,?,?,?,?,?,?,?,?,?)\",val)\n",
        "\n",
        "\n",
        "conn.commit()\n",
        "conn.close()\n",
        "\n"
      ],
      "metadata": {
        "id": "l4xf4L4DhUn5"
      },
      "execution_count": null,
      "outputs": []
    },
    {
      "cell_type": "code",
      "source": [
        "conn = create_connection('Boston_crime.db')\n",
        "sql_statement = \"select count(*) from Crime_Incident_Reports;\"\n",
        "df = pd.read_sql_query(sql_statement, conn)\n",
        "display(df)"
      ],
      "metadata": {
        "colab": {
          "base_uri": "https://localhost:8080/",
          "height": 81
        },
        "id": "Ky0Cc4U7jPNa",
        "outputId": "401d00d3-b32b-4742-fdca-d2f2a05bc690"
      },
      "execution_count": null,
      "outputs": [
        {
          "output_type": "display_data",
          "data": {
            "text/html": [
              "<div>\n",
              "<style scoped>\n",
              "    .dataframe tbody tr th:only-of-type {\n",
              "        vertical-align: middle;\n",
              "    }\n",
              "\n",
              "    .dataframe tbody tr th {\n",
              "        vertical-align: top;\n",
              "    }\n",
              "\n",
              "    .dataframe thead th {\n",
              "        text-align: right;\n",
              "    }\n",
              "</style>\n",
              "<table border=\"1\" class=\"dataframe\">\n",
              "  <thead>\n",
              "    <tr style=\"text-align: right;\">\n",
              "      <th></th>\n",
              "      <th>count(*)</th>\n",
              "    </tr>\n",
              "  </thead>\n",
              "  <tbody>\n",
              "    <tr>\n",
              "      <th>0</th>\n",
              "      <td>556771</td>\n",
              "    </tr>\n",
              "  </tbody>\n",
              "</table>\n",
              "</div>"
            ],
            "text/plain": [
              "   count(*)\n",
              "0    556771"
            ]
          },
          "metadata": {}
        }
      ]
    },
    {
      "cell_type": "code",
      "source": [
        "#BEST Table data\n",
        "\n",
        "dr ={}\n",
        "conn = create_connection('Boston_crime.db', True)\n",
        "cur = conn.cursor()\n",
        "sql_statement = '''CREATE table Best(Month TEXT, Incidents TEXT, \n",
        "                  Proactive_Engagements TEXT);'''\n",
        "with conn:\n",
        "  create_table(conn,sql_statement)\n",
        "with open('Boston Emergency Services Team Best.csv','r') as file:\n",
        "  my_dict = csv.DictReader(file)\n",
        "  val = [(i['Month'],i['incidents'],i['proactive_engagements']) for i in my_dict]\n",
        "\n",
        "cur.executemany(\"INSERT INTO Best VALUES (?,?,?)\",val)\n",
        "conn.commit()\n",
        "conn.close()\n"
      ],
      "metadata": {
        "id": "9gJvFetkmxJM"
      },
      "execution_count": null,
      "outputs": []
    },
    {
      "cell_type": "code",
      "source": [
        "conn = create_connection('Boston_crime.db')\n",
        "sql_statement = \"select count(*) from Best;\"\n",
        "df = pd.read_sql_query(sql_statement, conn)\n",
        "display(df)"
      ],
      "metadata": {
        "colab": {
          "base_uri": "https://localhost:8080/",
          "height": 81
        },
        "id": "6Fr5bW5EpvcZ",
        "outputId": "603eb506-b5c6-4b46-9dea-7acb772e695e"
      },
      "execution_count": null,
      "outputs": [
        {
          "output_type": "display_data",
          "data": {
            "text/html": [
              "<div>\n",
              "<style scoped>\n",
              "    .dataframe tbody tr th:only-of-type {\n",
              "        vertical-align: middle;\n",
              "    }\n",
              "\n",
              "    .dataframe tbody tr th {\n",
              "        vertical-align: top;\n",
              "    }\n",
              "\n",
              "    .dataframe thead th {\n",
              "        text-align: right;\n",
              "    }\n",
              "</style>\n",
              "<table border=\"1\" class=\"dataframe\">\n",
              "  <thead>\n",
              "    <tr style=\"text-align: right;\">\n",
              "      <th></th>\n",
              "      <th>count(*)</th>\n",
              "    </tr>\n",
              "  </thead>\n",
              "  <tbody>\n",
              "    <tr>\n",
              "      <th>0</th>\n",
              "      <td>15</td>\n",
              "    </tr>\n",
              "  </tbody>\n",
              "</table>\n",
              "</div>"
            ],
            "text/plain": [
              "   count(*)\n",
              "0        15"
            ]
          },
          "metadata": {}
        }
      ]
    },
    {
      "cell_type": "code",
      "source": [
        "# in_custody_death Table data\n",
        "dr ={}\n",
        "conn = create_connection('Boston_crime.db', True)\n",
        "cur = conn.cursor()\n",
        "sql_statement = '''CREATE table in_custody_deaths(incident_number TEXT, incident_date TEXT, \n",
        "                  incident_location TEXT, incident_district TEXT,during_arrest TEXT, during_transport TEXT,\n",
        "                  while_in_holding_cell TEXT, other TEXT,\n",
        "                  prisoner_age TEXT, prisoner_race TEXT,\n",
        "                  prisoner_sex_mf TEXT);'''\n",
        "with conn:\n",
        "  create_table(conn,sql_statement)\n",
        "with open('in-custody-deaths.csv','r') as file:\n",
        "  my_dict = csv.DictReader(file)\n",
        "  val = [(i['incident_number'],i['incident_date'],i['incident_location']\n",
        "          ,i['incident_district'],i['during_arrest'],i['during_transport'],i['while_in_holding_cell']\n",
        "          ,i['other'],i['prisoner_age'],i['prisoner_race'],i['prisoner_sex_mf']) for i in my_dict]\n",
        "\n",
        "cur.executemany(\"INSERT INTO in_custody_deaths VALUES (?,?,?,?,?,?,?,?,?,?,?)\",val)\n",
        "conn.commit()\n",
        "conn.close()\n",
        "\n"
      ],
      "metadata": {
        "id": "SvPNGRJMp2s7"
      },
      "execution_count": null,
      "outputs": []
    },
    {
      "cell_type": "code",
      "source": [
        "conn = create_connection('Boston_crime.db')\n",
        "sql_statement = \"select count(*) from in_custody_deaths;\"\n",
        "df = pd.read_sql_query(sql_statement, conn)\n",
        "display(df)"
      ],
      "metadata": {
        "colab": {
          "base_uri": "https://localhost:8080/",
          "height": 81
        },
        "id": "xcFwv7iSsFcE",
        "outputId": "65a35a08-cdc5-4e7d-bbb4-3d24ad667720"
      },
      "execution_count": null,
      "outputs": [
        {
          "output_type": "display_data",
          "data": {
            "text/html": [
              "<div>\n",
              "<style scoped>\n",
              "    .dataframe tbody tr th:only-of-type {\n",
              "        vertical-align: middle;\n",
              "    }\n",
              "\n",
              "    .dataframe tbody tr th {\n",
              "        vertical-align: top;\n",
              "    }\n",
              "\n",
              "    .dataframe thead th {\n",
              "        text-align: right;\n",
              "    }\n",
              "</style>\n",
              "<table border=\"1\" class=\"dataframe\">\n",
              "  <thead>\n",
              "    <tr style=\"text-align: right;\">\n",
              "      <th></th>\n",
              "      <th>count(*)</th>\n",
              "    </tr>\n",
              "  </thead>\n",
              "  <tbody>\n",
              "    <tr>\n",
              "      <th>0</th>\n",
              "      <td>6</td>\n",
              "    </tr>\n",
              "  </tbody>\n",
              "</table>\n",
              "</div>"
            ],
            "text/plain": [
              "   count(*)\n",
              "0         6"
            ]
          },
          "metadata": {}
        }
      ]
    },
    {
      "cell_type": "code",
      "source": [
        "# bpd_firearm_recovery_counts table data\n",
        "dr ={}\n",
        "conn = create_connection('Boston_crime.db', True)\n",
        "cur = conn.cursor()\n",
        "sql_statement = '''CREATE table bpd_firearm_recovery_counts(collection_date TEXT, crime_guns_recovered TEXT, \n",
        "                  guns_recovered_safeguard TEXT, buyback_gunsrecovered);'''\n",
        "with conn:\n",
        "  create_table(conn,sql_statement)\n",
        "with open('BPD Firearm Recovery Counts.csv','r') as file:\n",
        "  my_dict = csv.DictReader(file)\n",
        "  val = [(i['CollectionDate'],i['CrimeGunsRecovered'],i['GunsRecoveredSafeguard']\n",
        "          ,i['BuybackGunsRecovered']) for i in my_dict]\n",
        "\n",
        "cur.executemany(\"INSERT INTO bpd_firearm_recovery_counts VALUES (?,?,?,?)\",val)\n",
        "conn.commit()\n",
        "conn.close()\n"
      ],
      "metadata": {
        "id": "Xxu1eHmnsJ7R"
      },
      "execution_count": null,
      "outputs": []
    },
    {
      "cell_type": "code",
      "source": [
        "conn = create_connection('Boston_crime.db')\n",
        "sql_statement = \"select count(*) from bpd_firearm_recovery_counts;\"\n",
        "df = pd.read_sql_query(sql_statement, conn)\n",
        "display(df)"
      ],
      "metadata": {
        "colab": {
          "base_uri": "https://localhost:8080/",
          "height": 81
        },
        "id": "JOuoI16PtqQo",
        "outputId": "da721c60-e143-4232-a2f9-6ddb6ebdb412"
      },
      "execution_count": null,
      "outputs": [
        {
          "output_type": "display_data",
          "data": {
            "text/html": [
              "<div>\n",
              "<style scoped>\n",
              "    .dataframe tbody tr th:only-of-type {\n",
              "        vertical-align: middle;\n",
              "    }\n",
              "\n",
              "    .dataframe tbody tr th {\n",
              "        vertical-align: top;\n",
              "    }\n",
              "\n",
              "    .dataframe thead th {\n",
              "        text-align: right;\n",
              "    }\n",
              "</style>\n",
              "<table border=\"1\" class=\"dataframe\">\n",
              "  <thead>\n",
              "    <tr style=\"text-align: right;\">\n",
              "      <th></th>\n",
              "      <th>count(*)</th>\n",
              "    </tr>\n",
              "  </thead>\n",
              "  <tbody>\n",
              "    <tr>\n",
              "      <th>0</th>\n",
              "      <td>1952</td>\n",
              "    </tr>\n",
              "  </tbody>\n",
              "</table>\n",
              "</div>"
            ],
            "text/plain": [
              "   count(*)\n",
              "0      1952"
            ]
          },
          "metadata": {}
        }
      ]
    },
    {
      "cell_type": "code",
      "source": [
        "# homicide_clearance_rate table data\n",
        "dr ={}\n",
        "conn = create_connection('Boston_crime.db', True)\n",
        "cur = conn.cursor()\n",
        "sql_statement = '''CREATE table homicide_clearance_rate(year TEXT, homicides TEXT, \n",
        "                  same_year_clear TEXT, previous_year_clear TEXT, \n",
        "                  same_year_not_cleared TEXT, total_clear TEXT,\n",
        "                  percent_cleared_same_year TEXT, percent_cleared_previous_year TEXT,\n",
        "                  percent_not_cleared_same_year TEXT, clearance_rate TEXT,\n",
        "                  percent_of_cleared_same_year TEXT, percent_of_cleared_previous_year TEXT);'''\n",
        "with conn:\n",
        "  create_table(conn,sql_statement)\n",
        "with open('homicide-clearance-rate.csv','r') as file:\n",
        "  my_dict = csv.DictReader(file)\n",
        "  val = [(i['Year'],i['Homicides'],i['Same Year Clear']\n",
        "          ,i['Previous Year Clear'],i['Same Year Not Cleared'],i['Total Clear']\n",
        "          ,i['Percent Cleared Same Year'],i['Percent Cleared Previous Year']\n",
        "          ,i['Percent Not Cleared Same Year'],i['Clearance Rate'],i['Percent of Cleared Same Year']\n",
        "          ,i['Percent of Cleared Previous Year']) for i in my_dict]\n",
        "\n",
        "cur.executemany(\"INSERT INTO homicide_clearance_rate VALUES (?,?,?,?,?,?,?,?,?,?,?,?)\",val)\n",
        "conn.commit()\n",
        "conn.close()\n"
      ],
      "metadata": {
        "id": "VEqZZRtjt2NC"
      },
      "execution_count": null,
      "outputs": []
    },
    {
      "cell_type": "code",
      "source": [
        "conn = create_connection('Boston_crime.db')\n",
        "sql_statement = \"select count(*) from homicide_clearance_rate;\"\n",
        "df = pd.read_sql_query(sql_statement, conn)\n",
        "display(df)"
      ],
      "metadata": {
        "colab": {
          "base_uri": "https://localhost:8080/",
          "height": 81
        },
        "id": "GD23hveCwY1y",
        "outputId": "28c0e393-452a-48f1-eb89-ad13ed8085db"
      },
      "execution_count": null,
      "outputs": [
        {
          "output_type": "display_data",
          "data": {
            "text/html": [
              "<div>\n",
              "<style scoped>\n",
              "    .dataframe tbody tr th:only-of-type {\n",
              "        vertical-align: middle;\n",
              "    }\n",
              "\n",
              "    .dataframe tbody tr th {\n",
              "        vertical-align: top;\n",
              "    }\n",
              "\n",
              "    .dataframe thead th {\n",
              "        text-align: right;\n",
              "    }\n",
              "</style>\n",
              "<table border=\"1\" class=\"dataframe\">\n",
              "  <thead>\n",
              "    <tr style=\"text-align: right;\">\n",
              "      <th></th>\n",
              "      <th>count(*)</th>\n",
              "    </tr>\n",
              "  </thead>\n",
              "  <tbody>\n",
              "    <tr>\n",
              "      <th>0</th>\n",
              "      <td>6</td>\n",
              "    </tr>\n",
              "  </tbody>\n",
              "</table>\n",
              "</div>"
            ],
            "text/plain": [
              "   count(*)\n",
              "0         6"
            ]
          },
          "metadata": {}
        }
      ]
    },
    {
      "cell_type": "code",
      "source": [
        "#historical_data_crime_incident_reports table data\n",
        "dr ={}\n",
        "conn = create_connection('Boston_crime.db', True)\n",
        "cur = conn.cursor()\n",
        "sql_statement = '''CREATE table historical_data_crime_incident_reports(compnos TEXT, nature_code TEXT, \n",
        "                  incident_type_desc TEXT, main_crime_code TEXT, \n",
        "                  rept_district TEXT, reporting_area TEXT,\n",
        "                  from_date TEXT, weapon_type TEXT,\n",
        "                  shooting TEXT, domestic TEXT,\n",
        "                  shift TEXT, year TEXT,month TEXT, day_week TEXT,\n",
        "                  ucr_part TEXT, x TEXT, y TEXT,\n",
        "                  street_name TEXT, xstreet_name TEXT,location TEXT);'''\n",
        "with conn:\n",
        "  create_table(conn,sql_statement)\n",
        "with open('crime-incident-reports-july-2012-august-2015-source-legacy-system.csv','r') as file:\n",
        "  my_dict = csv.DictReader(file)\n",
        "  val = [(i['COMPNOS'],i['NatureCode'],i['INCIDENT_TYPE_DESCRIPTION']\n",
        "          ,i['MAIN_CRIMECODE'],i['REPTDISTRICT'],i['REPORTINGAREA']\n",
        "          ,i['FROMDATE'],i['WEAPONTYPE']\n",
        "          ,i['Shooting'],i['DOMESTIC'],i['SHIFT']\n",
        "          ,i['Year'],i['Month'],i['DAY_WEEK'],i['UCRPART']\n",
        "          ,i['X'],i['Y'],i['STREETNAME']\n",
        "          ,i['XSTREETNAME'],i['Location']) for i in my_dict]\n",
        "\n",
        "cur.executemany(\"INSERT INTO historical_data_crime_incident_reports VALUES (?,?,?,?,?,?,?,?,?,?,?,?,?,?,?,?,?,?,?,?)\",val)\n",
        "conn.commit()\n",
        "conn.close()"
      ],
      "metadata": {
        "id": "aBWjH3plwhGA"
      },
      "execution_count": null,
      "outputs": []
    },
    {
      "cell_type": "code",
      "source": [
        "conn = create_connection('Boston_crime.db')\n",
        "sql_statement = \"select count(*) from historical_data_crime_incident_reports;\"\n",
        "df = pd.read_sql_query(sql_statement, conn)\n",
        "display(df)"
      ],
      "metadata": {
        "colab": {
          "base_uri": "https://localhost:8080/",
          "height": 81
        },
        "id": "G-_Uegjx0_IJ",
        "outputId": "715fb1d8-32ab-4eae-b0bc-ef7a9088f168"
      },
      "execution_count": null,
      "outputs": [
        {
          "output_type": "display_data",
          "data": {
            "text/html": [
              "<div>\n",
              "<style scoped>\n",
              "    .dataframe tbody tr th:only-of-type {\n",
              "        vertical-align: middle;\n",
              "    }\n",
              "\n",
              "    .dataframe tbody tr th {\n",
              "        vertical-align: top;\n",
              "    }\n",
              "\n",
              "    .dataframe thead th {\n",
              "        text-align: right;\n",
              "    }\n",
              "</style>\n",
              "<table border=\"1\" class=\"dataframe\">\n",
              "  <thead>\n",
              "    <tr style=\"text-align: right;\">\n",
              "      <th></th>\n",
              "      <th>count(*)</th>\n",
              "    </tr>\n",
              "  </thead>\n",
              "  <tbody>\n",
              "    <tr>\n",
              "      <th>0</th>\n",
              "      <td>268056</td>\n",
              "    </tr>\n",
              "  </tbody>\n",
              "</table>\n",
              "</div>"
            ],
            "text/plain": [
              "   count(*)\n",
              "0    268056"
            ]
          },
          "metadata": {}
        }
      ]
    },
    {
      "cell_type": "code",
      "source": [
        "#rmsoffensecodes Table data\n",
        "dr ={}\n",
        "conn = create_connection('Boston_crime.db', True)\n",
        "cur = conn.cursor()\n",
        "sql_statement = '''CREATE table rmsoffensecodes(code TEXT, name TEXT);'''\n",
        "with conn:\n",
        "  create_table(conn,sql_statement)\n",
        "with open('rmsoffensecodes.csv','r') as file:\n",
        "  my_dict = csv.DictReader(file)\n",
        "  val = [(i['CODE'],i['NAME']) for i in my_dict]\n",
        "\n",
        "cur.executemany(\"INSERT INTO rmsoffensecodes VALUES (?,?)\",val)\n",
        "conn.commit()\n",
        "conn.close()"
      ],
      "metadata": {
        "colab": {
          "base_uri": "https://localhost:8080/",
          "height": 234
        },
        "id": "lEFyRlttDdwi",
        "outputId": "832d811c-f1b2-4ab3-c911-5ac24af10a7a"
      },
      "execution_count": null,
      "outputs": [
        {
          "output_type": "error",
          "ename": "FileNotFoundError",
          "evalue": "ignored",
          "traceback": [
            "\u001b[0;31m---------------------------------------------------------------------------\u001b[0m",
            "\u001b[0;31mFileNotFoundError\u001b[0m                         Traceback (most recent call last)",
            "\u001b[0;32m<ipython-input-146-ca673824b025>\u001b[0m in \u001b[0;36m<module>\u001b[0;34m()\u001b[0m\n\u001b[1;32m      6\u001b[0m \u001b[0;32mwith\u001b[0m \u001b[0mconn\u001b[0m\u001b[0;34m:\u001b[0m\u001b[0;34m\u001b[0m\u001b[0;34m\u001b[0m\u001b[0m\n\u001b[1;32m      7\u001b[0m   \u001b[0mcreate_table\u001b[0m\u001b[0;34m(\u001b[0m\u001b[0mconn\u001b[0m\u001b[0;34m,\u001b[0m\u001b[0msql_statement\u001b[0m\u001b[0;34m)\u001b[0m\u001b[0;34m\u001b[0m\u001b[0;34m\u001b[0m\u001b[0m\n\u001b[0;32m----> 8\u001b[0;31m \u001b[0;32mwith\u001b[0m \u001b[0mopen\u001b[0m\u001b[0;34m(\u001b[0m\u001b[0;34m'rmsoffensecodes.csv'\u001b[0m\u001b[0;34m,\u001b[0m\u001b[0;34m'r'\u001b[0m\u001b[0;34m)\u001b[0m \u001b[0;32mas\u001b[0m \u001b[0mfile\u001b[0m\u001b[0;34m:\u001b[0m\u001b[0;34m\u001b[0m\u001b[0;34m\u001b[0m\u001b[0m\n\u001b[0m\u001b[1;32m      9\u001b[0m   \u001b[0mmy_dict\u001b[0m \u001b[0;34m=\u001b[0m \u001b[0mcsv\u001b[0m\u001b[0;34m.\u001b[0m\u001b[0mDictReader\u001b[0m\u001b[0;34m(\u001b[0m\u001b[0mfile\u001b[0m\u001b[0;34m)\u001b[0m\u001b[0;34m\u001b[0m\u001b[0;34m\u001b[0m\u001b[0m\n\u001b[1;32m     10\u001b[0m   \u001b[0mval\u001b[0m \u001b[0;34m=\u001b[0m \u001b[0;34m[\u001b[0m\u001b[0;34m(\u001b[0m\u001b[0mi\u001b[0m\u001b[0;34m[\u001b[0m\u001b[0;34m'CODE'\u001b[0m\u001b[0;34m]\u001b[0m\u001b[0;34m,\u001b[0m\u001b[0mi\u001b[0m\u001b[0;34m[\u001b[0m\u001b[0;34m'NAME'\u001b[0m\u001b[0;34m]\u001b[0m\u001b[0;34m)\u001b[0m \u001b[0;32mfor\u001b[0m \u001b[0mi\u001b[0m \u001b[0;32min\u001b[0m \u001b[0mmy_dict\u001b[0m\u001b[0;34m]\u001b[0m\u001b[0;34m\u001b[0m\u001b[0;34m\u001b[0m\u001b[0m\n",
            "\u001b[0;31mFileNotFoundError\u001b[0m: [Errno 2] No such file or directory: 'rmsoffensecodes.csv'"
          ]
        }
      ]
    }
  ]
}